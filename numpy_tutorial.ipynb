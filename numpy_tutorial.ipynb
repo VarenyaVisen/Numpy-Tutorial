{
 "cells": [
  {
   "cell_type": "markdown",
   "id": "a7ed7799",
   "metadata": {},
   "source": [
    "### Numpy \n",
    "\n",
    "Numpy : Numerical Python"
   ]
  },
  {
   "cell_type": "markdown",
   "id": "5613dfa0",
   "metadata": {},
   "source": [
    "Advantages of Numpy Arrays:\n",
    "\n",
    "    1. Allows several Mathematical operations\n",
    "    2. Faster operations"
   ]
  },
  {
   "cell_type": "code",
   "execution_count": 1,
   "id": "f00c1a92",
   "metadata": {},
   "outputs": [],
   "source": [
    "import numpy as np"
   ]
  },
  {
   "cell_type": "code",
   "execution_count": 27,
   "id": "6de56ca2",
   "metadata": {},
   "outputs": [
    {
     "name": "stdout",
     "output_type": "stream",
     "text": [
      "[[1 2 3 4]\n",
      " [5 6 7 8]]\n"
     ]
    }
   ],
   "source": [
    "# Create numpy array\n",
    "a = np.array([[1,2,3,4],[5,6,7,8]])\n",
    "print(a)"
   ]
  },
  {
   "cell_type": "markdown",
   "id": "7a744cb8",
   "metadata": {},
   "source": [
    "#### List vs Numpy - Time Taken"
   ]
  },
  {
   "cell_type": "code",
   "execution_count": 28,
   "id": "56563c39",
   "metadata": {},
   "outputs": [],
   "source": [
    "from time import process_time"
   ]
  },
  {
   "cell_type": "markdown",
   "id": "ad70906e",
   "metadata": {},
   "source": [
    "#### Time taken by list\n",
    "\n",
    "we will take a list of numbers and add 5 to each and every number present inside the list"
   ]
  },
  {
   "cell_type": "code",
   "execution_count": 29,
   "id": "5857ea46",
   "metadata": {},
   "outputs": [
    {
     "name": "stdout",
     "output_type": "stream",
     "text": [
      "Total time taken :  0.859375\n"
     ]
    }
   ],
   "source": [
    "python_list = [i for i in range(10000000)]\n",
    "\n",
    "start_time = process_time()\n",
    "\n",
    "#Adding the value\n",
    "python_list = [i+5 for i in python_list] \n",
    "\n",
    "end_time = process_time()\n",
    "\n",
    "# Time taken by the process to complete\n",
    "print(\"Total time taken : \",end_time - start_time)"
   ]
  },
  {
   "cell_type": "markdown",
   "id": "58141a16",
   "metadata": {},
   "source": [
    "#### Time taken by Numpy Array"
   ]
  },
  {
   "cell_type": "code",
   "execution_count": 30,
   "id": "c49669a8",
   "metadata": {},
   "outputs": [
    {
     "name": "stdout",
     "output_type": "stream",
     "text": [
      "Total time taken :  0.0\n"
     ]
    }
   ],
   "source": [
    "np_array = np.array([i for i in range(10000000)])\n",
    "\n",
    "start_time = process_time()\n",
    "\n",
    "np_array += 5 # np_array = np_array + 5\n",
    "\n",
    "end_time = process_time()\n",
    "\n",
    "print(\"Total time taken : \", end_time - start_time)"
   ]
  },
  {
   "cell_type": "markdown",
   "id": "264bc9f0",
   "metadata": {},
   "source": [
    "Numpy Arrays"
   ]
  },
  {
   "cell_type": "code",
   "execution_count": 31,
   "id": "a3ac5818",
   "metadata": {},
   "outputs": [
    {
     "name": "stdout",
     "output_type": "stream",
     "text": [
      "[1, 2, 3, 4, 5]\n"
     ]
    },
    {
     "data": {
      "text/plain": [
       "list"
      ]
     },
     "execution_count": 31,
     "metadata": {},
     "output_type": "execute_result"
    }
   ],
   "source": [
    "# list\n",
    "list1 = [1,2,3,4,5]\n",
    "print(list1)\n",
    "type(list1)"
   ]
  },
  {
   "cell_type": "code",
   "execution_count": 32,
   "id": "b2426079",
   "metadata": {},
   "outputs": [
    {
     "name": "stdout",
     "output_type": "stream",
     "text": [
      "[1 2 3 4 5]\n"
     ]
    },
    {
     "data": {
      "text/plain": [
       "numpy.ndarray"
      ]
     },
     "execution_count": 32,
     "metadata": {},
     "output_type": "execute_result"
    }
   ],
   "source": [
    "# array\n",
    "np_array = np.array([1,2,3,4,5])\n",
    "print(np_array)\n",
    "type(np_array)"
   ]
  },
  {
   "cell_type": "code",
   "execution_count": 33,
   "id": "517f43ed",
   "metadata": {},
   "outputs": [
    {
     "name": "stdout",
     "output_type": "stream",
     "text": [
      "[1 2 3 4 5]\n"
     ]
    },
    {
     "data": {
      "text/plain": [
       "(5,)"
      ]
     },
     "execution_count": 33,
     "metadata": {},
     "output_type": "execute_result"
    }
   ],
   "source": [
    "\n",
    "# Creating a 1-D array\n",
    "a = np.array([1,2,3,4,5])\n",
    "print(a)\n",
    "a.shape"
   ]
  },
  {
   "cell_type": "code",
   "execution_count": 34,
   "id": "a652eed7",
   "metadata": {},
   "outputs": [
    {
     "name": "stdout",
     "output_type": "stream",
     "text": [
      "[[1 2 3 4]\n",
      " [5 6 7 8]]\n"
     ]
    },
    {
     "data": {
      "text/plain": [
       "(2, 4)"
      ]
     },
     "execution_count": 34,
     "metadata": {},
     "output_type": "execute_result"
    }
   ],
   "source": [
    "# Creating a 2-D array\n",
    "b = np.array([[1,2,3,4],[5,6,7,8]])\n",
    "print(b)\n",
    "b.shape # rows x columns"
   ]
  },
  {
   "cell_type": "code",
   "execution_count": 35,
   "id": "04c9839c",
   "metadata": {},
   "outputs": [
    {
     "name": "stdout",
     "output_type": "stream",
     "text": [
      "[[[ 1  2  3]\n",
      "  [ 4  5  6]]\n",
      "\n",
      " [[ 7  8  9]\n",
      "  [10 11 12]]]\n"
     ]
    },
    {
     "data": {
      "text/plain": [
       "(2, 2, 3)"
      ]
     },
     "execution_count": 35,
     "metadata": {},
     "output_type": "execute_result"
    }
   ],
   "source": [
    "# Creating a 3-D array\n",
    "c = np.array([[[1,2,3], [4,5,6]], [[7,8,9],[10,11,12]]])\n",
    "print(c)\n",
    "c.shape"
   ]
  },
  {
   "cell_type": "code",
   "execution_count": 36,
   "id": "0765f8b4",
   "metadata": {},
   "outputs": [
    {
     "name": "stdout",
     "output_type": "stream",
     "text": [
      "[[1. 2. 3.]\n",
      " [4. 5. 6.]]\n"
     ]
    }
   ],
   "source": [
    "# Creating array with floating point values\n",
    "d = np.array([[1,2,3],[4,5,6]],dtype=float)\n",
    "print(d)"
   ]
  },
  {
   "cell_type": "markdown",
   "id": "a80ca9bd",
   "metadata": {},
   "source": [
    "Initial placeholders in numpy arrays"
   ]
  },
  {
   "cell_type": "code",
   "execution_count": 37,
   "id": "fe4b0e1d",
   "metadata": {},
   "outputs": [
    {
     "name": "stdout",
     "output_type": "stream",
     "text": [
      "[[0. 0. 0. 0. 0.]\n",
      " [0. 0. 0. 0. 0.]\n",
      " [0. 0. 0. 0. 0.]\n",
      " [0. 0. 0. 0. 0.]]\n"
     ]
    }
   ],
   "source": [
    "# Create numpy array of zeroes\n",
    "x = np.zeros((4,5))\n",
    "print(x)"
   ]
  },
  {
   "cell_type": "code",
   "execution_count": 38,
   "id": "b9a971e9",
   "metadata": {},
   "outputs": [
    {
     "name": "stdout",
     "output_type": "stream",
     "text": [
      "[[1. 1. 1.]\n",
      " [1. 1. 1.]\n",
      " [1. 1. 1.]]\n"
     ]
    }
   ],
   "source": [
    "# create numpy array of ones\n",
    "y = np.ones((3,3))\n",
    "print(y)"
   ]
  },
  {
   "cell_type": "code",
   "execution_count": 39,
   "id": "199e26a0",
   "metadata": {},
   "outputs": [
    {
     "name": "stdout",
     "output_type": "stream",
     "text": [
      "[[5 5 5 5]\n",
      " [5 5 5 5]\n",
      " [5 5 5 5]\n",
      " [5 5 5 5]\n",
      " [5 5 5 5]]\n"
     ]
    }
   ],
   "source": [
    "# array of a particular value\n",
    "z = np.full((5,4),5) #np.full((rows x columns), value)\n",
    "print(z)"
   ]
  },
  {
   "cell_type": "code",
   "execution_count": 42,
   "id": "b8adb175",
   "metadata": {},
   "outputs": [
    {
     "name": "stdout",
     "output_type": "stream",
     "text": [
      "[[1. 0. 0. 0.]\n",
      " [0. 1. 0. 0.]\n",
      " [0. 0. 1. 0.]\n",
      " [0. 0. 0. 1.]]\n"
     ]
    }
   ],
   "source": [
    "# create identity matrix : all diagonal value will be 1 and other 0\n",
    "# in identity matrix the number of rows and columns are always equal\n",
    "a = np.eye(4)\n",
    "print(a)"
   ]
  },
  {
   "cell_type": "code",
   "execution_count": 44,
   "id": "61a3164d",
   "metadata": {},
   "outputs": [
    {
     "name": "stdout",
     "output_type": "stream",
     "text": [
      "[[0.18482578 0.63765263 0.10150314 0.13397682]\n",
      " [0.72465007 0.98802471 0.39990904 0.02203821]\n",
      " [0.84789414 0.36008288 0.88656573 0.19100654]]\n"
     ]
    }
   ],
   "source": [
    "# create numpy array with random values\n",
    "# values will be between 0 to 1\n",
    "b = np.random.random((3,4))\n",
    "print(b)"
   ]
  },
  {
   "cell_type": "code",
   "execution_count": 46,
   "id": "cf259bbd",
   "metadata": {},
   "outputs": [
    {
     "name": "stdout",
     "output_type": "stream",
     "text": [
      "[[91 25 53 57 73 92]\n",
      " [45 11 93 38 94 98]\n",
      " [56 28 16 58 68 71]\n",
      " [92 27 61 66 98 87]]\n"
     ]
    }
   ],
   "source": [
    "# random value array : integers within a specific range\n",
    "c = np.random.randint(10,100,(4,6)) # np.random.randint(range,(rows x columns))\n",
    "print(c)\n"
   ]
  },
  {
   "cell_type": "code",
   "execution_count": null,
   "id": "07b17b96",
   "metadata": {},
   "outputs": [
    {
     "name": "stdout",
     "output_type": "stream",
     "text": [
      "[10. 14. 18. 22. 26. 30.]\n"
     ]
    }
   ],
   "source": [
    "# Array of evenly spaced values --> specifying the number of values required\n",
    "d = np.linspace(10,30,6) #np.linspace(start, end, no. of values i need)\n",
    "print(d)"
   ]
  },
  {
   "cell_type": "code",
   "execution_count": null,
   "id": "75ab922c",
   "metadata": {},
   "outputs": [
    {
     "name": "stdout",
     "output_type": "stream",
     "text": [
      "[10 16 22 28]\n"
     ]
    }
   ],
   "source": [
    "# Array of evenly spaced values --> specifying the step\n",
    "# number of steps to skip\n",
    "e = np.arange(10,30,6)\n",
    "print(e)"
   ]
  },
  {
   "cell_type": "markdown",
   "id": "c5bc0e8e",
   "metadata": {},
   "source": [
    "Convert a list to Numpy array"
   ]
  },
  {
   "cell_type": "code",
   "execution_count": 54,
   "id": "c7ec75a9",
   "metadata": {},
   "outputs": [
    {
     "name": "stdout",
     "output_type": "stream",
     "text": [
      "[10 20 30 40 50]\n"
     ]
    },
    {
     "data": {
      "text/plain": [
       "numpy.ndarray"
      ]
     },
     "execution_count": 54,
     "metadata": {},
     "output_type": "execute_result"
    }
   ],
   "source": [
    "# similarly tuple can be created to a numpy array\n",
    "list2 = [10,20,30,40,50]\n",
    "\n",
    "np_array = np.asarray(list2)\n",
    "print(np_array)\n",
    "type(np_array)"
   ]
  },
  {
   "cell_type": "markdown",
   "id": "9f1cbde5",
   "metadata": {},
   "source": [
    "#### Analysing a numpy array\n",
    "\n",
    "getting insides from an array and getting information\n"
   ]
  },
  {
   "cell_type": "code",
   "execution_count": 55,
   "id": "04b1aced",
   "metadata": {},
   "outputs": [
    {
     "name": "stdout",
     "output_type": "stream",
     "text": [
      "[[84 50 89 15 44]\n",
      " [22 21 76 32 24]\n",
      " [49 38 82 86 84]\n",
      " [25 32 35 10 17]\n",
      " [58 85 79 55 34]]\n"
     ]
    }
   ],
   "source": [
    "c = np.random.randint(10,90,(5,5))\n",
    "print(c)"
   ]
  },
  {
   "cell_type": "code",
   "execution_count": 56,
   "id": "8d2afdb4",
   "metadata": {},
   "outputs": [
    {
     "name": "stdout",
     "output_type": "stream",
     "text": [
      "(5, 5)\n"
     ]
    }
   ],
   "source": [
    "# Array dimension\n",
    "print(c.shape)"
   ]
  },
  {
   "cell_type": "code",
   "execution_count": 57,
   "id": "9d0dc1ad",
   "metadata": {},
   "outputs": [
    {
     "name": "stdout",
     "output_type": "stream",
     "text": [
      "2\n"
     ]
    }
   ],
   "source": [
    "# number of dimension\n",
    "print(c.ndim)"
   ]
  },
  {
   "cell_type": "code",
   "execution_count": 58,
   "id": "f13d9063",
   "metadata": {},
   "outputs": [
    {
     "name": "stdout",
     "output_type": "stream",
     "text": [
      "25\n"
     ]
    }
   ],
   "source": [
    "# number of elements in an array\n",
    "print(c.size)"
   ]
  },
  {
   "cell_type": "code",
   "execution_count": 59,
   "id": "e069a9e6",
   "metadata": {},
   "outputs": [
    {
     "name": "stdout",
     "output_type": "stream",
     "text": [
      "int32\n"
     ]
    }
   ],
   "source": [
    "# checking the datatype of the values in the array\n",
    "print(c.dtype)"
   ]
  },
  {
   "cell_type": "markdown",
   "id": "7a03d4cc",
   "metadata": {},
   "source": [
    "Mathematical operations on a np array"
   ]
  },
  {
   "cell_type": "code",
   "execution_count": null,
   "id": "9c7fdb91",
   "metadata": {},
   "outputs": [
    {
     "name": "stdout",
     "output_type": "stream",
     "text": [
      "[1, 2, 3, 4, 5, 6, 7, 8, 9, 10]\n"
     ]
    }
   ],
   "source": [
    "# addition on list \n",
    "list1 = [1,2,3,4,5]\n",
    "list2 = [6,7,8,9,10]\n",
    "\n",
    "print(list1 + list2) # it will concatenate the list"
   ]
  },
  {
   "cell_type": "code",
   "execution_count": 66,
   "id": "1aee910d",
   "metadata": {},
   "outputs": [
    {
     "name": "stdout",
     "output_type": "stream",
     "text": [
      "[[1 5 5]\n",
      " [2 0 3]\n",
      " [0 7 4]]\n",
      "[[11 14 19]\n",
      " [11 17 15]\n",
      " [16 18 18]]\n"
     ]
    }
   ],
   "source": [
    "a = np.random.randint(0,10,(3,3))\n",
    "b = np.random.randint(10,20,(3,3))\n",
    "\n",
    "print(a)\n",
    "print(b)\n"
   ]
  },
  {
   "cell_type": "code",
   "execution_count": null,
   "id": "2360619d",
   "metadata": {},
   "outputs": [
    {
     "name": "stdout",
     "output_type": "stream",
     "text": [
      "Addition\n",
      "[[12 19 24]\n",
      " [13 17 18]\n",
      " [16 25 22]]\n",
      "Subtraction\n",
      "[[-10  -9 -14]\n",
      " [ -9 -17 -12]\n",
      " [-16 -11 -14]]\n",
      "Multiplication\n",
      "[[ 11  70  95]\n",
      " [ 22   0  45]\n",
      " [  0 126  72]]\n",
      "Division\n",
      "[[0.09090909 0.35714286 0.26315789]\n",
      " [0.18181818 0.         0.2       ]\n",
      " [0.         0.38888889 0.22222222]]\n"
     ]
    }
   ],
   "source": [
    "# Numpy element wise operations\n",
    "print(\"Addition\")\n",
    "print(a + b)\n",
    "print(\"Subtraction\")\n",
    "print(a-b)\n",
    "print(\"Multiplication\")\n",
    "print(a*b)\n",
    "print(\"Division\")\n",
    "print(a/b)"
   ]
  },
  {
   "cell_type": "code",
   "execution_count": 70,
   "id": "2287111f",
   "metadata": {},
   "outputs": [
    {
     "name": "stdout",
     "output_type": "stream",
     "text": [
      "[[0 8 4]\n",
      " [1 0 2]\n",
      " [6 7 2]]\n",
      "[[16 11 18]\n",
      " [10 14 17]\n",
      " [17 15 14]]\n"
     ]
    }
   ],
   "source": [
    "a = np.random.randint(0,10,(3,3))\n",
    "b = np.random.randint(10,20,(3,3))\n",
    "\n",
    "print(a)\n",
    "print(b)"
   ]
  },
  {
   "cell_type": "code",
   "execution_count": 71,
   "id": "845d2421",
   "metadata": {},
   "outputs": [
    {
     "name": "stdout",
     "output_type": "stream",
     "text": [
      "[[16 19 22]\n",
      " [11 14 19]\n",
      " [23 22 16]]\n",
      "[[-16  -3 -14]\n",
      " [ -9 -14 -15]\n",
      " [-11  -8 -12]]\n",
      "[[  0  88  72]\n",
      " [ 10   0  34]\n",
      " [102 105  28]]\n",
      "[[0.         0.72727273 0.22222222]\n",
      " [0.1        0.         0.11764706]\n",
      " [0.35294118 0.46666667 0.14285714]]\n"
     ]
    }
   ],
   "source": [
    "print(np.add(a,b))\n",
    "print(np.subtract(a,b))\n",
    "print(np.multiply(a,b))\n",
    "print(np.divide(a,b))"
   ]
  },
  {
   "cell_type": "markdown",
   "id": "2df2c624",
   "metadata": {},
   "source": [
    "Array Manipulation"
   ]
  },
  {
   "cell_type": "code",
   "execution_count": 72,
   "id": "c2553d3a",
   "metadata": {},
   "outputs": [
    {
     "name": "stdout",
     "output_type": "stream",
     "text": [
      "[[9 2 4]\n",
      " [1 5 5]]\n",
      "(2, 3)\n"
     ]
    }
   ],
   "source": [
    "array = np.random.randint(0,10,(2,3))\n",
    "print(array)\n",
    "print(array.shape)"
   ]
  },
  {
   "cell_type": "code",
   "execution_count": 73,
   "id": "5ab0fd08",
   "metadata": {},
   "outputs": [
    {
     "name": "stdout",
     "output_type": "stream",
     "text": [
      "[[9 1]\n",
      " [2 5]\n",
      " [4 5]]\n",
      "(3, 2)\n"
     ]
    }
   ],
   "source": [
    "# Transpose\n",
    "trans = np.transpose(array)\n",
    "print(trans)\n",
    "print(trans.shape)"
   ]
  },
  {
   "cell_type": "code",
   "execution_count": 74,
   "id": "c31f75e2",
   "metadata": {},
   "outputs": [
    {
     "name": "stdout",
     "output_type": "stream",
     "text": [
      "[[5 4 7]\n",
      " [0 0 0]]\n",
      "(2, 3)\n"
     ]
    }
   ],
   "source": [
    "array = np.random.randint(0,10,(2,3))\n",
    "print(array)\n",
    "print(array.shape)"
   ]
  },
  {
   "cell_type": "code",
   "execution_count": 75,
   "id": "680c1c45",
   "metadata": {},
   "outputs": [
    {
     "name": "stdout",
     "output_type": "stream",
     "text": [
      "[[5 0]\n",
      " [4 0]\n",
      " [7 0]]\n",
      "(3, 2)\n"
     ]
    }
   ],
   "source": [
    "# Another method for transpose\n",
    "trans2 = array.T\n",
    "print(trans2)\n",
    "print(trans2.shape)"
   ]
  },
  {
   "cell_type": "code",
   "execution_count": 77,
   "id": "a65510c3",
   "metadata": {},
   "outputs": [
    {
     "name": "stdout",
     "output_type": "stream",
     "text": [
      "[[8 2 4]\n",
      " [3 1 4]]\n",
      "(2, 3)\n"
     ]
    }
   ],
   "source": [
    "# Re-shaping the array\n",
    "a = np.random.randint(0,10,(2,3))\n",
    "print(a)\n",
    "print(a.shape)"
   ]
  },
  {
   "cell_type": "code",
   "execution_count": 79,
   "id": "9cb74e47",
   "metadata": {},
   "outputs": [
    {
     "name": "stdout",
     "output_type": "stream",
     "text": [
      "[[8 2]\n",
      " [4 3]\n",
      " [1 4]]\n"
     ]
    }
   ],
   "source": [
    "b = a.reshape(3,2)\n",
    "print(b)"
   ]
  },
  {
   "cell_type": "code",
   "execution_count": null,
   "id": "dcfa77ea",
   "metadata": {},
   "outputs": [],
   "source": []
  }
 ],
 "metadata": {
  "kernelspec": {
   "display_name": "venv",
   "language": "python",
   "name": "python3"
  },
  "language_info": {
   "codemirror_mode": {
    "name": "ipython",
    "version": 3
   },
   "file_extension": ".py",
   "mimetype": "text/x-python",
   "name": "python",
   "nbconvert_exporter": "python",
   "pygments_lexer": "ipython3",
   "version": "3.13.1"
  }
 },
 "nbformat": 4,
 "nbformat_minor": 5
}
