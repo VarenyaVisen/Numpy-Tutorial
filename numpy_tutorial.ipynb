{
 "cells": [
  {
   "cell_type": "markdown",
   "id": "a7ed7799",
   "metadata": {},
   "source": [
    "### Numpy \n",
    "\n",
    "Numpy : Numerical Python"
   ]
  },
  {
   "cell_type": "markdown",
   "id": "5613dfa0",
   "metadata": {},
   "source": [
    "Advantages of Numpy Arrays:\n",
    "\n",
    "    1. Allows several Mathematical operations\n",
    "    2. Faster operations"
   ]
  },
  {
   "cell_type": "code",
   "execution_count": 1,
   "id": "f00c1a92",
   "metadata": {},
   "outputs": [],
   "source": [
    "import numpy as np"
   ]
  },
  {
   "cell_type": "code",
   "execution_count": 27,
   "id": "6de56ca2",
   "metadata": {},
   "outputs": [
    {
     "name": "stdout",
     "output_type": "stream",
     "text": [
      "[[1 2 3 4]\n",
      " [5 6 7 8]]\n"
     ]
    }
   ],
   "source": [
    "# Create numpy array\n",
    "a = np.array([[1,2,3,4],[5,6,7,8]])\n",
    "print(a)"
   ]
  },
  {
   "cell_type": "markdown",
   "id": "7a744cb8",
   "metadata": {},
   "source": [
    "#### List vs Numpy - Time Taken"
   ]
  },
  {
   "cell_type": "code",
   "execution_count": 28,
   "id": "56563c39",
   "metadata": {},
   "outputs": [],
   "source": [
    "from time import process_time"
   ]
  },
  {
   "cell_type": "markdown",
   "id": "ad70906e",
   "metadata": {},
   "source": [
    "#### Time taken by list\n",
    "\n",
    "we will take a list of numbers and add 5 to each and every number present inside the list"
   ]
  },
  {
   "cell_type": "code",
   "execution_count": 29,
   "id": "5857ea46",
   "metadata": {},
   "outputs": [
    {
     "name": "stdout",
     "output_type": "stream",
     "text": [
      "Total time taken :  0.859375\n"
     ]
    }
   ],
   "source": [
    "python_list = [i for i in range(10000000)]\n",
    "\n",
    "start_time = process_time()\n",
    "\n",
    "#Adding the value\n",
    "python_list = [i+5 for i in python_list] \n",
    "\n",
    "end_time = process_time()\n",
    "\n",
    "# Time taken by the process to complete\n",
    "print(\"Total time taken : \",end_time - start_time)"
   ]
  },
  {
   "cell_type": "markdown",
   "id": "58141a16",
   "metadata": {},
   "source": [
    "#### Time taken by Numpy Array"
   ]
  },
  {
   "cell_type": "code",
   "execution_count": 30,
   "id": "c49669a8",
   "metadata": {},
   "outputs": [
    {
     "name": "stdout",
     "output_type": "stream",
     "text": [
      "Total time taken :  0.0\n"
     ]
    }
   ],
   "source": [
    "np_array = np.array([i for i in range(10000000)])\n",
    "\n",
    "start_time = process_time()\n",
    "\n",
    "np_array += 5 # np_array = np_array + 5\n",
    "\n",
    "end_time = process_time()\n",
    "\n",
    "print(\"Total time taken : \", end_time - start_time)"
   ]
  },
  {
   "cell_type": "markdown",
   "id": "264bc9f0",
   "metadata": {},
   "source": [
    "Numpy Arrays"
   ]
  },
  {
   "cell_type": "code",
   "execution_count": 31,
   "id": "a3ac5818",
   "metadata": {},
   "outputs": [
    {
     "name": "stdout",
     "output_type": "stream",
     "text": [
      "[1, 2, 3, 4, 5]\n"
     ]
    },
    {
     "data": {
      "text/plain": [
       "list"
      ]
     },
     "execution_count": 31,
     "metadata": {},
     "output_type": "execute_result"
    }
   ],
   "source": [
    "# list\n",
    "list1 = [1,2,3,4,5]\n",
    "print(list1)\n",
    "type(list1)"
   ]
  },
  {
   "cell_type": "code",
   "execution_count": 32,
   "id": "b2426079",
   "metadata": {},
   "outputs": [
    {
     "name": "stdout",
     "output_type": "stream",
     "text": [
      "[1 2 3 4 5]\n"
     ]
    },
    {
     "data": {
      "text/plain": [
       "numpy.ndarray"
      ]
     },
     "execution_count": 32,
     "metadata": {},
     "output_type": "execute_result"
    }
   ],
   "source": [
    "# array\n",
    "np_array = np.array([1,2,3,4,5])\n",
    "print(np_array)\n",
    "type(np_array)"
   ]
  },
  {
   "cell_type": "code",
   "execution_count": 33,
   "id": "517f43ed",
   "metadata": {},
   "outputs": [
    {
     "name": "stdout",
     "output_type": "stream",
     "text": [
      "[1 2 3 4 5]\n"
     ]
    },
    {
     "data": {
      "text/plain": [
       "(5,)"
      ]
     },
     "execution_count": 33,
     "metadata": {},
     "output_type": "execute_result"
    }
   ],
   "source": [
    "\n",
    "# Creating a 1-D array\n",
    "a = np.array([1,2,3,4,5])\n",
    "print(a)\n",
    "a.shape"
   ]
  },
  {
   "cell_type": "code",
   "execution_count": 34,
   "id": "a652eed7",
   "metadata": {},
   "outputs": [
    {
     "name": "stdout",
     "output_type": "stream",
     "text": [
      "[[1 2 3 4]\n",
      " [5 6 7 8]]\n"
     ]
    },
    {
     "data": {
      "text/plain": [
       "(2, 4)"
      ]
     },
     "execution_count": 34,
     "metadata": {},
     "output_type": "execute_result"
    }
   ],
   "source": [
    "# Creating a 2-D array\n",
    "b = np.array([[1,2,3,4],[5,6,7,8]])\n",
    "print(b)\n",
    "b.shape # rows x columns"
   ]
  },
  {
   "cell_type": "code",
   "execution_count": 35,
   "id": "04c9839c",
   "metadata": {},
   "outputs": [
    {
     "name": "stdout",
     "output_type": "stream",
     "text": [
      "[[[ 1  2  3]\n",
      "  [ 4  5  6]]\n",
      "\n",
      " [[ 7  8  9]\n",
      "  [10 11 12]]]\n"
     ]
    },
    {
     "data": {
      "text/plain": [
       "(2, 2, 3)"
      ]
     },
     "execution_count": 35,
     "metadata": {},
     "output_type": "execute_result"
    }
   ],
   "source": [
    "# Creating a 3-D array\n",
    "c = np.array([[[1,2,3], [4,5,6]], [[7,8,9],[10,11,12]]])\n",
    "print(c)\n",
    "c.shape"
   ]
  },
  {
   "cell_type": "code",
   "execution_count": 36,
   "id": "0765f8b4",
   "metadata": {},
   "outputs": [
    {
     "name": "stdout",
     "output_type": "stream",
     "text": [
      "[[1. 2. 3.]\n",
      " [4. 5. 6.]]\n"
     ]
    }
   ],
   "source": [
    "# Creating array with floating point values\n",
    "d = np.array([[1,2,3],[4,5,6]],dtype=float)\n",
    "print(d)"
   ]
  },
  {
   "cell_type": "markdown",
   "id": "a80ca9bd",
   "metadata": {},
   "source": [
    "Initial placeholders in numpy arrays"
   ]
  },
  {
   "cell_type": "code",
   "execution_count": 37,
   "id": "fe4b0e1d",
   "metadata": {},
   "outputs": [
    {
     "name": "stdout",
     "output_type": "stream",
     "text": [
      "[[0. 0. 0. 0. 0.]\n",
      " [0. 0. 0. 0. 0.]\n",
      " [0. 0. 0. 0. 0.]\n",
      " [0. 0. 0. 0. 0.]]\n"
     ]
    }
   ],
   "source": [
    "# Create numpy array of zeroes\n",
    "x = np.zeros((4,5))\n",
    "print(x)"
   ]
  },
  {
   "cell_type": "code",
   "execution_count": 38,
   "id": "b9a971e9",
   "metadata": {},
   "outputs": [
    {
     "name": "stdout",
     "output_type": "stream",
     "text": [
      "[[1. 1. 1.]\n",
      " [1. 1. 1.]\n",
      " [1. 1. 1.]]\n"
     ]
    }
   ],
   "source": [
    "# create numpy array of ones\n",
    "y = np.ones((3,3))\n",
    "print(y)"
   ]
  },
  {
   "cell_type": "code",
   "execution_count": 39,
   "id": "199e26a0",
   "metadata": {},
   "outputs": [
    {
     "name": "stdout",
     "output_type": "stream",
     "text": [
      "[[5 5 5 5]\n",
      " [5 5 5 5]\n",
      " [5 5 5 5]\n",
      " [5 5 5 5]\n",
      " [5 5 5 5]]\n"
     ]
    }
   ],
   "source": [
    "# array of a particular value\n",
    "z = np.full((5,4),5) #np.full((rows x columns), value)\n",
    "print(z)"
   ]
  },
  {
   "cell_type": "code",
   "execution_count": 42,
   "id": "b8adb175",
   "metadata": {},
   "outputs": [
    {
     "name": "stdout",
     "output_type": "stream",
     "text": [
      "[[1. 0. 0. 0.]\n",
      " [0. 1. 0. 0.]\n",
      " [0. 0. 1. 0.]\n",
      " [0. 0. 0. 1.]]\n"
     ]
    }
   ],
   "source": [
    "# create identity matrix : all diagonal value will be 1 and other 0\n",
    "# in identity matrix the number of rows and columns are always equal\n",
    "a = np.eye(4)\n",
    "print(a)"
   ]
  },
  {
   "cell_type": "code",
   "execution_count": 44,
   "id": "61a3164d",
   "metadata": {},
   "outputs": [
    {
     "name": "stdout",
     "output_type": "stream",
     "text": [
      "[[0.18482578 0.63765263 0.10150314 0.13397682]\n",
      " [0.72465007 0.98802471 0.39990904 0.02203821]\n",
      " [0.84789414 0.36008288 0.88656573 0.19100654]]\n"
     ]
    }
   ],
   "source": [
    "# create numpy array with random values\n",
    "# values will be between 0 to 1\n",
    "b = np.random.random((3,4))\n",
    "print(b)"
   ]
  },
  {
   "cell_type": "code",
   "execution_count": null,
   "id": "cf259bbd",
   "metadata": {},
   "outputs": [],
   "source": []
  }
 ],
 "metadata": {
  "kernelspec": {
   "display_name": "venv",
   "language": "python",
   "name": "python3"
  },
  "language_info": {
   "codemirror_mode": {
    "name": "ipython",
    "version": 3
   },
   "file_extension": ".py",
   "mimetype": "text/x-python",
   "name": "python",
   "nbconvert_exporter": "python",
   "pygments_lexer": "ipython3",
   "version": "3.13.1"
  }
 },
 "nbformat": 4,
 "nbformat_minor": 5
}
